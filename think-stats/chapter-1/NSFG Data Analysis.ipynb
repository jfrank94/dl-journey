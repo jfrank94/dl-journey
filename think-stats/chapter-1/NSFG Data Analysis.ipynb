{
 "cells": [
  {
   "cell_type": "code",
   "execution_count": 6,
   "metadata": {},
   "outputs": [],
   "source": [
    "import survey"
   ]
  },
  {
   "cell_type": "code",
   "execution_count": 7,
   "metadata": {},
   "outputs": [
    {
     "name": "stdout",
     "output_type": "stream",
     "text": [
      "Number of Records: 13593\n"
     ]
    }
   ],
   "source": [
    "table = survey.Pregnancies()\n",
    "table.ReadRecords()\n",
    "print 'Number of Records:', len(table.records)\n"
   ]
  },
  {
   "cell_type": "code",
   "execution_count": 8,
   "metadata": {},
   "outputs": [
    {
     "name": "stdout",
     "output_type": "stream",
     "text": [
      "Number of First Birth Live Births: 4413 and Number of Other Live Births: 4735\n"
     ]
    }
   ],
   "source": [
    "firstBirthCount = 0 \n",
    "otherBirthCount = 0\n",
    "for rec in table.records: \n",
    "    if rec.outcome == 1 and rec.birthord == 1:\n",
    "        firstBirthCount += 1\n",
    "    elif rec.outcome == 1:  \n",
    "        otherBirthCount += 1 \n",
    "print 'Number of First Birth Live Births:', firstBirthCount, 'and Number of Other Live Births:', otherBirthCount"
   ]
  },
  {
   "cell_type": "code",
   "execution_count": 9,
   "metadata": {},
   "outputs": [],
   "source": [
    "avgFirstBirthPregLength = 0\n",
    "avgOtherBirthPregLength = 0\n",
    "firstPregLengthSum = 0 \n",
    "otherPregLengthSum = 0 \n",
    "totalPregLength = 0\n",
    "for rec in table.records: \n",
    "    if rec.outcome == 1 and rec.birthord == 1:\n",
    "        firstPregLengthSum += rec.prglength\n",
    "    elif rec.outcome == 1: \n",
    "        otherPregLengthSum += rec.prglength \n",
    "    totalPregLength += rec.prglength \n",
    "\n",
    "avgFirstBirthPregLength = firstPregLengthSum/totalPregLength\n",
    "avgOtherBirthPregLength = otherPregLengthSum/totalPregLength \n",
    "\n",
    "\n",
    "#print 'Average 1st birth pregnancy length:', avgFirstBirthPregLength, 'and avg birth pregnancy length for other births: ', avgOtherBirthPregLength\n"
   ]
  },
  {
   "cell_type": "code",
   "execution_count": 30,
   "metadata": {},
   "outputs": [],
   "source": [
    "def mean(seqNum):\n",
    "    return float(sum(seqNum)) / len(seqNum)\n",
    "\n",
    "def partitionRecords(table):\n",
    "    firsts = survey.Pregnancies()\n",
    "    others = survey.Pregnancies()\n",
    "\n",
    "    for p in table.records:\n",
    "        if p.outcome != 1:\n",
    "            continue\n",
    "\n",
    "        if p.birthord == 1:\n",
    "            firsts.AddRecord(p)\n",
    "        else:\n",
    "            others.AddRecord(p)\n",
    "    return firsts, others\n",
    "\n",
    "def process(table):\n",
    "    table.lengths = [p.prglength for p in table.records]\n",
    "    table.n = len(table.lengths)\n",
    "    table.mu = mean(table.lengths)\n",
    "    \n",
    "\n",
    "def makeTables(data_dir='.'):\n",
    "    table = survey.Pregnancies()\n",
    "    table.ReadRecords(data_dir)\n",
    "    firsts, others = partitionRecords(table)\n",
    "\n",
    "    return table, firsts, others\n",
    "\n",
    "def processTables(*tables):\n",
    "\n",
    "    for table in tables:\n",
    "        process(table)\n",
    "\n",
    "def summarize(data_dir):\n",
    "\n",
    "    table, firsts, others = makeTables(data_dir)\n",
    "    processTables(firsts, others)\n",
    "\n",
    "    print 'Number of first babies', firsts.n\n",
    "    print 'Number of others', others.n\n",
    "\n",
    "    mu1, mu2 = firsts.mu, others.mu\n",
    "\n",
    "    print 'Mean gestation in weeks:'\n",
    "    print 'First babies', mu1\n",
    "    print 'Others', mu2\n",
    "\n",
    "    print 'Difference in days', (mu1 - mu2) * 7.0"
   ]
  },
  {
   "cell_type": "code",
   "execution_count": 31,
   "metadata": {},
   "outputs": [
    {
     "name": "stdout",
     "output_type": "stream",
     "text": [
      "<type 'float'>\n",
      "<type 'float'>\n",
      "Number of first babies 4413\n",
      "Number of others 4735\n",
      "Mean gestation in weeks:\n",
      "First babies 38.6009517335\n",
      "Others 38.5229144667\n",
      "Difference in days 0.546260867443\n"
     ]
    }
   ],
   "source": [
    "data = summarize('.')"
   ]
  },
  {
   "cell_type": "code",
   "execution_count": null,
   "metadata": {},
   "outputs": [],
   "source": []
  }
 ],
 "metadata": {
  "kernelspec": {
   "display_name": "Python 2",
   "language": "python",
   "name": "python2"
  },
  "language_info": {
   "codemirror_mode": {
    "name": "ipython",
    "version": 2
   },
   "file_extension": ".py",
   "mimetype": "text/x-python",
   "name": "python",
   "nbconvert_exporter": "python",
   "pygments_lexer": "ipython2",
   "version": "2.7.13"
  }
 },
 "nbformat": 4,
 "nbformat_minor": 2
}
