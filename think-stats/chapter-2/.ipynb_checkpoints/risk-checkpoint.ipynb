{
 "cells": [
  {
   "cell_type": "code",
   "execution_count": 3,
   "metadata": {},
   "outputs": [],
   "source": [
    "import descriptive\n",
    "import Pmf"
   ]
  },
  {
   "cell_type": "code",
   "execution_count": 4,
   "metadata": {},
   "outputs": [],
   "source": [
    "def probRange(pmf, start, end): \n",
    "    total = 0.0\n",
    "    return sum(total for weeks in range(start, end+1))\n",
    "    \n",
    "def probEarly(pmf, start, end):\n",
    "    return probRange(pmf, 0, 37)\n",
    "\n",
    "def probOnTime(pmf, start, end):\n",
    "    return probRange(pmf, 38, 40)\n",
    "\n",
    "def probLate(pmf, start, end):\n",
    "    return probLate(pmf, 41, 50)\n",
    "\n",
    "def summarizeRelativeRisk(firsts_pmf, others_pmf): \n",
    "    functions = [probRange, probEarly, probOnTime, probLate]\n",
    "    pmfs = [firsts_pmf, others_pmf]\n",
    "    risks = {}\n",
    "    print Risks:\n",
    "    for funcs in functions: \n",
    "        for pmfs in pmf: \n",
    "            probability = funcs(pmfs)\n",
    "            risks[functions.__name__, pmf.name] = probability \n",
    "            print risks \n",
    "    \n",
    "    print \"Relative Risk Ratio:\"\n",
    "    for funcs in functions: \n",
    "        try: \n",
    "            ratio = (risks[func.__name__, 'first babies'] / \n",
    "                     risks[func.__name__, 'others'])\n",
    "            \n",
    "            print func.__name__, ratio\n",
    "        except ZeroDivisionError:\n",
    "            pass "
   ]
  },
  {
   "cell_type": "code",
   "execution_count": null,
   "metadata": {},
   "outputs": [],
   "source": []
  }
 ],
 "metadata": {
  "kernelspec": {
   "display_name": "Python 2",
   "language": "python",
   "name": "python2"
  },
  "language_info": {
   "codemirror_mode": {
    "name": "ipython",
    "version": 2
   },
   "file_extension": ".py",
   "mimetype": "text/x-python",
   "name": "python",
   "nbconvert_exporter": "python",
   "pygments_lexer": "ipython2",
   "version": "2.7.13"
  }
 },
 "nbformat": 4,
 "nbformat_minor": 2
}
