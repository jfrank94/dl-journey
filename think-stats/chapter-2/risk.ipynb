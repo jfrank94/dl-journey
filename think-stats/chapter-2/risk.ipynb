{
 "cells": [
  {
   "cell_type": "code",
   "execution_count": 3,
   "metadata": {},
   "outputs": [],
   "source": [
    "import descriptive\n",
    "import Pmf"
   ]
  },
  {
   "cell_type": "code",
   "execution_count": 36,
   "metadata": {},
   "outputs": [],
   "source": [
    "def probRange(pmf, start, end): \n",
    "    return sum(pmf.Prob(weeks) for weeks in range(start, end+1))\n",
    "\n",
    "    \n",
    "def probEarly(pmf):\n",
    "    return probRange(pmf, 0, 37)\n",
    "\n",
    "def probOnTime(pmf):\n",
    "    return probRange(pmf, 38, 40)\n",
    "\n",
    "def probLate(pmf):\n",
    "    return probRange(pmf, 41, 50)\n",
    "\n",
    "def summarizeRelativeRisk(firsts_pmf, others_pmf): \n",
    "    functions = [probEarly, probOnTime, probLate]\n",
    "    pmfs = [firsts_pmf, others_pmf]\n",
    "    risks = {}\n",
    "    print \"Risks:\"\n",
    "    for func in functions: \n",
    "        for pmf in pmfs: \n",
    "            probability = func(pmf)\n",
    "            risks[func.__name__, pmf.name] = probability \n",
    "            print func.__name__, pmf.name, probability\n",
    "    \n",
    "    print \"Relative Risk Ratio:\"\n",
    "    for func in functions: \n",
    "        try: \n",
    "            ratio = (risks[func.__name__, 'first babies'] / \n",
    "                     risks[func.__name__, 'others'])\n",
    "            \n",
    "            print func.__name__, ratio\n",
    "        except ZeroDivisionError:\n",
    "            pass "
   ]
  },
  {
   "cell_type": "code",
   "execution_count": 37,
   "metadata": {},
   "outputs": [
    {
     "name": "stdout",
     "output_type": "stream",
     "text": [
      "Risks:\n",
      "probEarly first babies 0.182415590301\n",
      "probEarly others 0.168321013728\n",
      "probOnTime first babies 0.662134602311\n",
      "probOnTime others 0.737909186906\n",
      "probLate first babies 0.155449807387\n",
      "probLate others 0.0937697993664\n",
      "Relative Risk Ratio:\n",
      "probEarly 1.08373628617\n",
      "probOnTime 0.897311775027\n",
      "probLate 1.65778116662\n"
     ]
    }
   ],
   "source": [
    "pool, firsts, others = descriptive.MakeTables()\n",
    "summarizeRelativeRisk(firsts.pmf, others.pmf)"
   ]
  },
  {
   "cell_type": "code",
   "execution_count": null,
   "metadata": {},
   "outputs": [],
   "source": []
  }
 ],
 "metadata": {
  "kernelspec": {
   "display_name": "Python 2",
   "language": "python",
   "name": "python2"
  },
  "language_info": {
   "codemirror_mode": {
    "name": "ipython",
    "version": 2
   },
   "file_extension": ".py",
   "mimetype": "text/x-python",
   "name": "python",
   "nbconvert_exporter": "python",
   "pygments_lexer": "ipython2",
   "version": "2.7.13"
  }
 },
 "nbformat": 4,
 "nbformat_minor": 2
}
