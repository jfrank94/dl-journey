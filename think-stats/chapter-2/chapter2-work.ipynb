{
 "cells": [
  {
   "cell_type": "code",
   "execution_count": 72,
   "metadata": {},
   "outputs": [],
   "source": [
    "import thinkstats as ts \n",
    "import survey\n",
    "import math"
   ]
  },
  {
   "cell_type": "code",
   "execution_count": 73,
   "metadata": {},
   "outputs": [
    {
     "name": "stdout",
     "output_type": "stream",
     "text": [
      "The mean of the pumpkin weights is 100.0\n",
      "The variance of the pumpkin weights is 48217.0\n",
      "The standard deviation of the pumpkin weights is 219.583697027\n",
      "<type 'float'>\n"
     ]
    }
   ],
   "source": [
    "def pumpkin(pWeights):\n",
    "    mean = ts.Mean(pWeights)\n",
    "    variance = ts.Var(pWeights, mean)\n",
    "    std = math.sqrt(variance)\n",
    "    print 'The mean of the pumpkin weights is', mean\n",
    "    print 'The variance of the pumpkin weights is', variance\n",
    "    print 'The standard deviation of the pumpkin weights is', std\n",
    "    print type(std)\n",
    "\n",
    "pWeights = [1, 1, 1, 3, 3, 591]\n",
    "pumpkin(pWeights)"
   ]
  },
  {
   "cell_type": "code",
   "execution_count": 74,
   "metadata": {},
   "outputs": [
    {
     "name": "stdout",
     "output_type": "stream",
     "text": [
      "Number of first babies 4413\n",
      "Number of others 4735\n",
      "Mean gestation in weeks:\n",
      "First babies 38.6009517335\n",
      "Others 38.5229144667\n",
      "Standard deviation gestation in weeks:\n",
      "First babies 2.79158506982\n",
      "Others 2.61557611068\n",
      "Difference in days 0.546260867443\n"
     ]
    }
   ],
   "source": [
    "def mean(seqNum):\n",
    "    return float(sum(seqNum)) / len(seqNum)\n",
    "\n",
    "def variance(seqNum, mu): \n",
    "    dev2 = [(x - mu)**2 for x in seqNum]\n",
    "    var = mean(dev2)\n",
    "    return var\n",
    "\n",
    "def partitionRecords(table):\n",
    "    firsts = survey.Pregnancies()\n",
    "    others = survey.Pregnancies()\n",
    "\n",
    "    for p in table.records:\n",
    "        if p.outcome != 1:\n",
    "            continue\n",
    "\n",
    "        if p.birthord == 1:\n",
    "            firsts.AddRecord(p)\n",
    "        else:\n",
    "            others.AddRecord(p)\n",
    "    return firsts, others\n",
    "\n",
    "def process(table):\n",
    "    table.lengths = [p.prglength for p in table.records]\n",
    "    table.n = len(table.lengths)\n",
    "    table.mu = mean(table.lengths)\n",
    "    table.v = variance(table.lengths, table.mu)\n",
    "    table.std = math.sqrt(table.v)\n",
    "\n",
    "def makeTables(data_dir='.'):\n",
    "    table = survey.Pregnancies()\n",
    "    table.ReadRecords(data_dir)\n",
    "    firsts, others = partitionRecords(table)\n",
    "\n",
    "    return table, firsts, others\n",
    "\n",
    "def processTables(*tables):\n",
    "\n",
    "    for table in tables:\n",
    "        process(table)\n",
    "\n",
    "def summarize(data_dir):\n",
    "\n",
    "    table, firsts, others = makeTables(data_dir)\n",
    "    processTables(firsts, others)\n",
    "\n",
    "    print 'Number of first babies', firsts.n\n",
    "    print 'Number of others', others.n\n",
    "\n",
    "    mu1, mu2 = firsts.mu, others.mu\n",
    "    std1, std2 = firsts.std, others.std \n",
    "    \n",
    "    print 'Mean gestation in weeks:'\n",
    "    print 'First babies', mu1\n",
    "    print 'Others', mu2\n",
    "    \n",
    "    print 'Standard deviation gestation in weeks:'\n",
    "    print 'First babies', std1\n",
    "    print 'Others', std2\n",
    "\n",
    "    print 'Difference in days', (mu1 - mu2) * 7.0\n",
    "\n",
    "data = summarize('.')\n",
    "data"
   ]
  },
  {
   "cell_type": "code",
   "execution_count": 75,
   "metadata": {},
   "outputs": [
    {
     "data": {
      "text/plain": [
       "{2: 0.18181818181818182,\n",
       " 3: 0.09090909090909091,\n",
       " 4: 0.09090909090909091,\n",
       " 6: 0.09090909090909091,\n",
       " 10: 0.09090909090909091,\n",
       " 18: 0.18181818181818182,\n",
       " 19: 0.09090909090909091,\n",
       " 56: 0.18181818181818182}"
      ]
     },
     "execution_count": 75,
     "metadata": {},
     "output_type": "execute_result"
    }
   ],
   "source": [
    "def myPMF(seqNum): \n",
    "    hist = {}\n",
    "    for x in seqNum:\n",
    "        hist[x] = hist.get(x, 0) + 1 \n",
    "    \n",
    "    n = float(len(seqNum))\n",
    "    pmf = {}\n",
    "    for x, freq in hist.items(): \n",
    "        pmf[x] = freq / n \n",
    "    \n",
    "    return pmf\n",
    "\n",
    "values = [3, 4, 18, 18, 19, 2, 6, 10, 2, 56, 56]\n",
    "myPMF(values)"
   ]
  },
  {
   "cell_type": "code",
   "execution_count": 76,
   "metadata": {},
   "outputs": [],
   "source": [
    "import Pmf"
   ]
  },
  {
   "cell_type": "code",
   "execution_count": 77,
   "metadata": {},
   "outputs": [
    {
     "name": "stdout",
     "output_type": "stream",
     "text": [
      "1 1\n",
      "2 2\n",
      "3 1\n",
      "5 1\n"
     ]
    }
   ],
   "source": [
    "hist = Pmf.MakeHistFromList([1, 2, 2, 3, 5])\n",
    "hist.Freq(2)\n",
    "hist.Values()\n",
    "\n",
    "for num, freq in hist.Items():\n",
    "    print num, freq"
   ]
  },
  {
   "cell_type": "code",
   "execution_count": 78,
   "metadata": {},
   "outputs": [
    {
     "data": {
      "text/plain": [
       "4"
      ]
     },
     "execution_count": 78,
     "metadata": {},
     "output_type": "execute_result"
    }
   ],
   "source": [
    "def mode(histObj): \n",
    "    newDict = {}\n",
    "    for num in sorted(hist.Values()):\n",
    "        newDict[num] = hist.Freq(num)\n",
    "    sortedDict = sorted(newDict, key=newDict.__getitem__)\n",
    "    return sortedDict[-1]\n",
    "\n",
    "hist = Pmf.MakeHistFromList([1, 2, 2, 3, 3, 4, 4, 4, 5])\n",
    "mode(hist)    "
   ]
  },
  {
   "cell_type": "code",
   "execution_count": 79,
   "metadata": {},
   "outputs": [
    {
     "data": {
      "text/plain": [
       "[(3, 3), (10, 3), (1, 1), (2, 1), (8, 1), (9, 1)]"
      ]
     },
     "execution_count": 79,
     "metadata": {},
     "output_type": "execute_result"
    }
   ],
   "source": [
    "def sortByValueDec(dct): \n",
    "    sortedValues = sorted(dct.values(), reverse=True)\n",
    "    sortedKeys = sorted(dct, reverse=True)\n",
    "    return [(k, v) for (k, v) in sorted(dct.items(), key=lambda kv: kv[1], reverse=True)]\n",
    "\n",
    "\n",
    "def allModes(histObj):\n",
    "    newDict = {} \n",
    "    for num in sorted(hist.Values()): \n",
    "        newDict[num] = hist.Freq(num)\n",
    "    return sortByValueDec(newDict)\n",
    "\n",
    "hist = Pmf.MakeHistFromList([1, 2, 3, 3, 3, 8, 9, 10, 10, 10])\n",
    "allModes(hist)\n"
   ]
  },
  {
   "cell_type": "code",
   "execution_count": 70,
   "metadata": {},
   "outputs": [],
   "source": [
    "import matplotlib.pyplot as pyplot"
   ]
  },
  {
   "cell_type": "code",
   "execution_count": 71,
   "metadata": {},
   "outputs": [
    {
     "data": {
      "image/png": "[encoded data removed]",
      "text/plain": [
       "<Figure size 432x288 with 1 Axes>"
      ]
     },
     "metadata": {},
     "output_type": "display_data"
    }
   ],
   "source": [
    "pyplot.pie([1, 2, 3])\n",
    "pyplot.show()"
   ]
  },
  {
   "cell_type": "code",
   "execution_count": 80,
   "metadata": {},
   "outputs": [
    {
     "data": {
      "text/plain": [
       "<Pmf.Pmf at 0x10847f090>"
      ]
     },
     "execution_count": 80,
     "metadata": {},
     "output_type": "execute_result"
    }
   ],
   "source": [
    "def remainingLifeTimes(pmfObj, age):\n",
    "    newLst = pmfObj.Items()\n",
    "    newLst.append(age)\n",
    "    pmfObj = Pmf.MakePmfFromList(newLst)\n",
    "    return pmfObj\n",
    "\n",
    "pmfObj = Pmf.MakePmfFromList([23, 34, 55, 12, 67, 18])\n",
    "remainingLifeTimes(pmfObj, 19)"
   ]
  },
  {
   "cell_type": "code",
   "execution_count": 101,
   "metadata": {},
   "outputs": [
    {
     "name": "stdout",
     "output_type": "stream",
     "text": [
      "34.8333333333 34.8333333333\n"
     ]
    }
   ],
   "source": [
    "def pmfMean(pmfObj): \n",
    "    mean = 0 \n",
    "    for k, v in pmfObj.Items(): \n",
    "         mean += k * v\n",
    "    return mean \n",
    "\n",
    "def pmfVar(pmfObj, mean):\n",
    "    var = 0 \n",
    "    for k, v in pmfObj.Items():\n",
    "        var += v * (k - mean)**2 \n",
    "    return var \n",
    "\n",
    "pmfObj = Pmf.MakePmfFromList([23, 34, 55, 12, 67, 18])\n",
    "\n",
    "mean = pmfMean(pmfObj)\n",
    "var = pmfVar(pmfObj, mean)\n",
    "\n"
   ]
  },
  {
   "cell_type": "code",
   "execution_count": null,
   "metadata": {},
   "outputs": [],
   "source": []
  }
 ],
 "metadata": {
  "kernelspec": {
   "display_name": "Python 2",
   "language": "python",
   "name": "python2"
  },
  "language_info": {
   "codemirror_mode": {
    "name": "ipython",
    "version": 2
   },
   "file_extension": ".py",
   "mimetype": "text/x-python",
   "name": "python",
   "nbconvert_exporter": "python",
   "pygments_lexer": "ipython2",
   "version": "2.7.13"
  }
 },
 "nbformat": 4,
 "nbformat_minor": 2
}
